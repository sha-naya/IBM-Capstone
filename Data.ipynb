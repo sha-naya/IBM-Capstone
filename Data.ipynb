{
 "cells": [
  {
   "cell_type": "markdown",
   "metadata": {},
   "source": [
    "# Data\n",
    "\n",
    "The primary data that will be used for this analysis comes from FourSquare API. This location data will act as a foundation for the report, but not its one and only source of evidence. Specifically, the FourSquare API will be utilized to get venues from the SoHo, London and SoHo, New York neighborhoods. The category of the venues will be determined to establish what kind of places are most common in the neighborhoods. This information will then be used to evaluate the similarities and differences of the two neighborhoods. \n",
    "\n",
    "Additional information will be used as a supplement to FourSquare's location data, such as area demographics and land cost. This information is offered on various platforms and since the analysis' targets are only 2 neighborhoods, a simple Google search would be sufficient. \n",
    "\n",
    "In essence, a similar type of data will be used as in previous assignments for this course (Applied Data Science Capstone by IBM). Previously, the task included the examination of Downtown Toronto borough venues by neighborhood and K-clustering algorithm application. In this report, the exact same is to be done but now, on two occassions. Most common venues and their categories will be sourced from FourSquare for both neighborhoods. Then, the resulting dataframes will be used to compare and contrast the two sets with each other. The goal is to see how similar or different they are.  "
   ]
  }
 ],
 "metadata": {
  "kernelspec": {
   "display_name": "Python 3",
   "language": "python",
   "name": "python3"
  },
  "language_info": {
   "codemirror_mode": {
    "name": "ipython",
    "version": 3
   },
   "file_extension": ".py",
   "mimetype": "text/x-python",
   "name": "python",
   "nbconvert_exporter": "python",
   "pygments_lexer": "ipython3",
   "version": "3.7.6"
  }
 },
 "nbformat": 4,
 "nbformat_minor": 4
}
