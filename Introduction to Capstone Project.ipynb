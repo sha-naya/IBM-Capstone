{
 "cells": [
  {
   "cell_type": "markdown",
   "metadata": {},
   "source": [
    "# Introduction and Business Problem\n",
    "\n",
    "The purpose of this analysis is to determine how similar or different the SoHo neighborhood in London is in comparison to its counterpart in New York City. This analysis aims to shed light on whether a business located in SoHo, London can successfully branch out to SoHo, NY or vice versa. Such a comparison is important because a successful business in English SoHo neighborhood, a restaraunt or coffee shop, may want to replicate its success across the Atlantic, in a neighborhood of similar name and potentially, field of customers. In addition, this report attempts to showcase how neighborhoods bearing the same name across the world, SoHo and Chinatown, for instance, can be similar or vastly different across the continents. In the end, cultural, historic, and economic circumstances may greatly influence how a neighborhood develops and who it caters to, even if its origins and demographics are similar. \n",
    "\n",
    "For further information on the two SoHo neighborhoods, in [London](https://en.wikipedia.org/wiki/Soho) and [New York](https://en.wikipedia.org/wiki/SoHo,_Manhattan), it is advised to visit their respective Wikipedia pages.  \n",
    "\n",
    "Generally speaking, both of these neighborhoods appear to cater to fashionistas, hipsters, and food enthusiasts. In my own personal experience after several visits to both, this umbrella stereotype appears to hold some truth. \n",
    "\n",
    "The essence of the business problem at hand may be presented in terms of a mock example. Let's assume that a coffeeshop named \"Roast Post\" in SoHo, London developed into a local favorite and garnered social media popularity. Its owner is thinking of opening a second branch in New York SoHo neighborhood. He believes this to be a good idea since the American branch would be located in a same named neighborhood that appears to have a very similar customer pool. Additionally, he thinks that England and USA are very similar countries given the sharing of the English language, developed country status, and so on. However, before he makes this important investment, he decides to hire a data scientist to see if his assumptions are correct and that it is indeed a good business move. The goal of the hired data scientist is to evaluate how similar the two SoHo neighborhoods are using location data conveniently offered through FourSquare API. Adding to that, the data scientist needs to present some additional information besides locational comparison, such as land cost and area demographics. "
   ]
  },
  {
   "cell_type": "code",
   "execution_count": null,
   "metadata": {},
   "outputs": [],
   "source": []
  }
 ],
 "metadata": {
  "kernelspec": {
   "display_name": "Python 3",
   "language": "python",
   "name": "python3"
  },
  "language_info": {
   "codemirror_mode": {
    "name": "ipython",
    "version": 3
   },
   "file_extension": ".py",
   "mimetype": "text/x-python",
   "name": "python",
   "nbconvert_exporter": "python",
   "pygments_lexer": "ipython3",
   "version": "3.7.6"
  }
 },
 "nbformat": 4,
 "nbformat_minor": 4
}
